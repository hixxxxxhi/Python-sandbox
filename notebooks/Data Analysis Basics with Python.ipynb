{
 "cells": [
  {
   "cell_type": "markdown",
   "metadata": {},
   "source": [
    "## NumPy\n",
    "[NumPy Reference](https://docs.scipy.org/doc/numpy/reference/?v=20170731152418)"
   ]
  },
  {
   "cell_type": "code",
   "execution_count": 1,
   "metadata": {
    "collapsed": true
   },
   "outputs": [],
   "source": [
    "import numpy as np"
   ]
  },
  {
   "cell_type": "code",
   "execution_count": 2,
   "metadata": {
    "collapsed": false
   },
   "outputs": [
    {
     "data": {
      "text/plain": [
       "array([1, 2, 3, 4])"
      ]
     },
     "execution_count": 2,
     "metadata": {},
     "output_type": "execute_result"
    }
   ],
   "source": [
    "# Python のリストから NumPy の配列を作成する\n",
    "my_list1 = [1, 2, 3, 4]\n",
    "my_arr1 = np.array(my_list1)\n",
    "my_arr1"
   ]
  },
  {
   "cell_type": "code",
   "execution_count": 3,
   "metadata": {
    "collapsed": false
   },
   "outputs": [
    {
     "data": {
      "text/plain": [
       "array([[ 1,  2,  3,  4],\n",
       "       [11, 22, 33, 44]])"
      ]
     },
     "execution_count": 3,
     "metadata": {},
     "output_type": "execute_result"
    }
   ],
   "source": [
    "# Python のリストのリストから NumPy の多次元配列を作成する\n",
    "my_lists = [[1, 2, 3, 4], [11, 22, 33, 44]]\n",
    "my_arr2 = np.array(my_lists)\n",
    "my_arr2"
   ]
  },
  {
   "cell_type": "code",
   "execution_count": 4,
   "metadata": {
    "collapsed": false
   },
   "outputs": [
    {
     "data": {
      "text/plain": [
       "(2, 4)"
      ]
     },
     "execution_count": 4,
     "metadata": {},
     "output_type": "execute_result"
    }
   ],
   "source": [
    "# 配列のシェイプ\n",
    "my_arr2.shape"
   ]
  },
  {
   "cell_type": "code",
   "execution_count": 5,
   "metadata": {
    "collapsed": false
   },
   "outputs": [
    {
     "data": {
      "text/plain": [
       "dtype('int64')"
      ]
     },
     "execution_count": 5,
     "metadata": {},
     "output_type": "execute_result"
    }
   ],
   "source": [
    "# 配列に格納されているデータの型\n",
    "my_arr2.dtype    # NumPy の配列の要素はすべて同じデータ型である必要がある"
   ]
  },
  {
   "cell_type": "code",
   "execution_count": 6,
   "metadata": {
    "collapsed": false
   },
   "outputs": [
    {
     "data": {
      "text/plain": [
       "array([ 0.,  0.,  0.,  0.,  0.])"
      ]
     },
     "execution_count": 6,
     "metadata": {},
     "output_type": "execute_result"
    }
   ],
   "source": [
    "# 要素が 0 の配列を作成する\n",
    "my_zeros = np.zeros(5)\n",
    "my_zeros"
   ]
  },
  {
   "cell_type": "code",
   "execution_count": 7,
   "metadata": {
    "collapsed": false
   },
   "outputs": [
    {
     "data": {
      "text/plain": [
       "array([[ 1.,  1.],\n",
       "       [ 1.,  1.]])"
      ]
     },
     "execution_count": 7,
     "metadata": {},
     "output_type": "execute_result"
    }
   ],
   "source": [
    "# 要素が 1 の配列を作成する\n",
    "my_ones = np.ones([2, 2])\n",
    "my_ones"
   ]
  },
  {
   "cell_type": "code",
   "execution_count": 8,
   "metadata": {
    "collapsed": false
   },
   "outputs": [
    {
     "data": {
      "text/plain": [
       "array([[  1.72723371e-077,  -1.49457773e-154,   3.95252517e-323,\n",
       "          0.00000000e+000,   0.00000000e+000],\n",
       "       [  0.00000000e+000,   0.00000000e+000,   0.00000000e+000,\n",
       "          0.00000000e+000,   0.00000000e+000],\n",
       "       [  0.00000000e+000,   0.00000000e+000,               nan,\n",
       "                      nan,  -1.49457773e-154]])"
      ]
     },
     "execution_count": 8,
     "metadata": {},
     "output_type": "execute_result"
    }
   ],
   "source": [
    "# 要素が空の配列を作成する\n",
    "my_empty = np.empty([3, 5])\n",
    "my_empty    # 空とゼロは違う"
   ]
  },
  {
   "cell_type": "code",
   "execution_count": 9,
   "metadata": {
    "collapsed": false
   },
   "outputs": [
    {
     "data": {
      "text/plain": [
       "array([0, 1, 2, 3, 4, 5, 6, 7, 8, 9])"
      ]
     },
     "execution_count": 9,
     "metadata": {},
     "output_type": "execute_result"
    }
   ],
   "source": [
    "# Python の range() の NumPy 配列版\n",
    "np.arange(10)     # NumPy 配列が返される"
   ]
  },
  {
   "cell_type": "code",
   "execution_count": 10,
   "metadata": {
    "collapsed": false
   },
   "outputs": [
    {
     "data": {
      "text/plain": [
       "array([ 0,  2,  4,  6,  8, 10, 12, 14, 16, 18])"
      ]
     },
     "execution_count": 10,
     "metadata": {},
     "output_type": "execute_result"
    }
   ],
   "source": [
    "np.arange(0, 20, 2)"
   ]
  },
  {
   "cell_type": "code",
   "execution_count": 11,
   "metadata": {
    "collapsed": false
   },
   "outputs": [
    {
     "name": "stdout",
     "output_type": "stream",
     "text": [
      "[[0 0 0 0]\n",
      " [0 0 0 0]]\n",
      "[[ 1  4  9 16]\n",
      " [25 36 49 64]]\n"
     ]
    }
   ],
   "source": [
    "#  配列どうしの計算 => それぞれの要素どうしが計算される\n",
    "arr1 = np.array([[1, 2, 3, 4], [5, 6, 7, 8]])\n",
    "\n",
    "# 減算\n",
    "print(arr1 - arr1)\n",
    "\n",
    "# 乗算\n",
    "print(arr1 * arr1)"
   ]
  },
  {
   "cell_type": "code",
   "execution_count": 12,
   "metadata": {
    "collapsed": false
   },
   "outputs": [
    {
     "name": "stdout",
     "output_type": "stream",
     "text": [
      "[[ 1.          0.5         0.33333333  0.25      ]\n",
      " [ 0.2         0.16666667  0.14285714  0.125     ]]\n",
      "[[ 3  6  9 12]\n",
      " [15 18 21 24]]\n"
     ]
    }
   ],
   "source": [
    "# スカラーと配列の計算\n",
    "\n",
    "# 除算\n",
    "print(1 / arr1)\n",
    "\n",
    "# 累乗\n",
    "print(arr1 * 3)"
   ]
  },
  {
   "cell_type": "code",
   "execution_count": 13,
   "metadata": {
    "collapsed": false
   },
   "outputs": [
    {
     "name": "stdout",
     "output_type": "stream",
     "text": [
      "4\n",
      "[2 3 4]\n",
      "[ 0  0  0  0  0  5  6  7  8  9 10]\n"
     ]
    }
   ],
   "source": [
    "# 配列の要素を取得する\n",
    "arr2 = np.arange(0, 11)    # => array([ 0,  1,  2,  3,  4,  5,  6,  7,  8,  9, 10])\n",
    "\n",
    "# インデックスを指定して要素を取得する\n",
    "print(arr2[4])\n",
    "\n",
    "# スライスを使って要素を取得する\n",
    "print(arr2[2:5])\n",
    "\n",
    "# スライスを使って一括で要素を変更する\n",
    "arr2[0:5] = 0\n",
    "print(arr2)"
   ]
  },
  {
   "cell_type": "code",
   "execution_count": 14,
   "metadata": {
    "collapsed": false
   },
   "outputs": [
    {
     "data": {
      "text/plain": [
       "array([ 0,  0,  0,  0,  0, -1, -1, -1, -1, -1, -1])"
      ]
     },
     "execution_count": 14,
     "metadata": {},
     "output_type": "execute_result"
    }
   ],
   "source": [
    "# スライスを使った場合、参照渡しになる\n",
    "slice_arr = arr2[5:11]    # => array([ 5,  6,  7,  8,  9, 10])\n",
    "slice_arr[:] = -1     # => array([-1, -1, -1, -1, -1, -1])\n",
    "arr2     # => array([ 0,  0,  0,  0,  0, -1, -1, -1, -1, -1, -1])｜元の配列が変更される"
   ]
  },
  {
   "cell_type": "code",
   "execution_count": 15,
   "metadata": {
    "collapsed": false
   },
   "outputs": [
    {
     "data": {
      "text/plain": [
       "array([ 0,  0,  0,  0,  0, -1, -1, -1, -1, -1, -1])"
      ]
     },
     "execution_count": 15,
     "metadata": {},
     "output_type": "execute_result"
    }
   ],
   "source": [
    "# 配列をコピーする\n",
    "copy_arr = arr2.copy()    # => array([ 0,  0,  0,  0,  0, -1, -1, -1, -1, -1, -1])\n",
    "copy_arr[:] = 1    # => array([1, 1, 1, 1, 1, 1, 1, 1, 1, 1, 1])\n",
    "arr2    # => array([ 0,  0,  0,  0,  0, -1, -1, -1, -1, -1, -1])｜元の配列は変更されない"
   ]
  },
  {
   "cell_type": "code",
   "execution_count": 16,
   "metadata": {
    "collapsed": false
   },
   "outputs": [
    {
     "name": "stdout",
     "output_type": "stream",
     "text": [
      "[4 5 6]\n",
      "7\n",
      "7\n",
      "[[2 3]\n",
      " [5 6]]\n",
      "[[1 2 3]\n",
      " [7 8 9]]\n",
      "[[7 8 9]\n",
      " [1 2 3]]\n"
     ]
    }
   ],
   "source": [
    "# 多次元配列の要素を取得する\n",
    "arr_2d = np.array([[1, 2, 3], \n",
    "                                 [4, 5, 6], \n",
    "                                 [7, 8, 9]])\n",
    "\n",
    "print(arr_2d[1])\n",
    "print(arr_2d[2][0])\n",
    "print(arr_2d[2, 0])    # arr_2d[2][0] と等価\n",
    "\n",
    "# スライスを使って右上 2 行 2 列分を取得する\n",
    "print(arr_2d[:2, 1:])\n",
    "\n",
    "# リストのリストを指定して任意の行だけ取得する\n",
    "print(arr_2d[[0, 2]])    # 0 行目と 2 行目だけ取得する\n",
    "\n",
    "# 順番を指定して任意の行だけ取得できる\n",
    "print(arr_2d[[2, 0]])"
   ]
  },
  {
   "cell_type": "code",
   "execution_count": 17,
   "metadata": {
    "collapsed": false,
    "scrolled": true
   },
   "outputs": [
    {
     "name": "stdout",
     "output_type": "stream",
     "text": [
      "[[0 3 6]\n",
      " [1 4 7]\n",
      " [2 5 8]]\n",
      "[[0 3 6]\n",
      " [1 4 7]\n",
      " [2 5 8]]\n",
      "[[0 3 6]\n",
      " [1 4 7]\n",
      " [2 5 8]]\n"
     ]
    }
   ],
   "source": [
    "# 配列の行と列を入れ替える（転置）\n",
    "arr3 = np.arange(9).reshape((3, 3))    # 0 〜 8 を要素に持つ 3 行 3 列の配列を作成\n",
    "\n",
    "print(arr3.T)\n",
    "print(arr3.transpose())\n",
    "print(arr3.transpose((1, 0)))    # (行, 列) = (1, 0) は行に列（1）を、列に行（0）を指定している"
   ]
  },
  {
   "cell_type": "code",
   "execution_count": 18,
   "metadata": {
    "collapsed": false
   },
   "outputs": [
    {
     "data": {
      "text/plain": [
       "array([[45, 54, 63],\n",
       "       [54, 66, 78],\n",
       "       [63, 78, 93]])"
      ]
     },
     "execution_count": 18,
     "metadata": {},
     "output_type": "execute_result"
    }
   ],
   "source": [
    "# 行列の乗算\n",
    "np.dot(arr3.T, arr3)"
   ]
  },
  {
   "cell_type": "code",
   "execution_count": 19,
   "metadata": {
    "collapsed": false
   },
   "outputs": [
    {
     "name": "stdout",
     "output_type": "stream",
     "text": [
      "[[-500 -499 -498 ...,  498  499  500]\n",
      " [-500 -499 -498 ...,  498  499  500]\n",
      " [-500 -499 -498 ...,  498  499  500]\n",
      " ..., \n",
      " [-500 -499 -498 ...,  498  499  500]\n",
      " [-500 -499 -498 ...,  498  499  500]\n",
      " [-500 -499 -498 ...,  498  499  500]]\n",
      "\n",
      "[[-500 -500 -500 ..., -500 -500 -500]\n",
      " [-499 -499 -499 ..., -499 -499 -499]\n",
      " [-498 -498 -498 ..., -498 -498 -498]\n",
      " ..., \n",
      " [ 498  498  498 ...,  498  498  498]\n",
      " [ 499  499  499 ...,  499  499  499]\n",
      " [ 500  500  500 ...,  500  500  500]]\n"
     ]
    }
   ],
   "source": [
    "# meshgrid() を使って配列を作成する\n",
    "points = np.arange(-500, 501, 1)    # => array([-500 -499 -498 ...,  498  499  500])\n",
    "dx, dy = np.meshgrid(points, points)\n",
    "print(dx)\n",
    "print()\n",
    "print(dy)"
   ]
  },
  {
   "cell_type": "code",
   "execution_count": 20,
   "metadata": {
    "collapsed": false
   },
   "outputs": [
    {
     "name": "stdout",
     "output_type": "stream",
     "text": [
      "[1, 2, 30, 40]\n",
      "[ 1  2 30 40]\n"
     ]
    }
   ],
   "source": [
    "# 条件を満たす要素を取り出して配列を作成する\n",
    "A = np.array([1, 2, 3, 4])\n",
    "B = np.array([10, 20, 30, 40])\n",
    "condition = np.array([True, True, False, False])\n",
    "\n",
    "# リスト内包表記を使う方法\n",
    "print([(a if cond else b) for a, b, cond in zip(A, B, condition)])    # 少し速度が遅い。多次元配列では使えない\n",
    "\n",
    "# where() を使う方法\n",
    "print(np.where(condition, A, B))    # => array([ 1,  2, 30, 40])"
   ]
  },
  {
   "cell_type": "code",
   "execution_count": 21,
   "metadata": {
    "collapsed": false
   },
   "outputs": [
    {
     "name": "stdout",
     "output_type": "stream",
     "text": [
      "[[-0.97830412  2.86368066  1.03293597  0.16750562 -1.11056578]\n",
      " [-0.82219329  1.314509    0.82937015 -0.78229533  0.17444413]\n",
      " [ 1.54303857 -0.77514871  3.05605687  0.3276496   0.40660897]\n",
      " [ 1.08003427  0.82839891 -1.55027598  1.10096579 -0.87912778]\n",
      " [-0.80617144  1.2977501   0.53323766 -0.40562296  0.56881663]]\n",
      "\n",
      "[[ 0.          2.86368066  1.03293597  0.16750562  0.        ]\n",
      " [ 0.          1.314509    0.82937015  0.          0.17444413]\n",
      " [ 1.54303857  0.          3.05605687  0.3276496   0.40660897]\n",
      " [ 1.08003427  0.82839891  0.          1.10096579  0.        ]\n",
      " [ 0.          1.2977501   0.53323766  0.          0.56881663]]\n"
     ]
    }
   ],
   "source": [
    "# 標準正規分布の値を要素に持つ多次元配列を作成する\n",
    "from numpy.random import randn\n",
    "arr4 = randn(5, 5)\n",
    "print(arr4)\n",
    "print()\n",
    "\n",
    "# 負の値の要素は 0 にする\n",
    "print(np.where(arr4 < 0, 0, arr4))"
   ]
  },
  {
   "cell_type": "code",
   "execution_count": 22,
   "metadata": {
    "collapsed": false
   },
   "outputs": [
    {
     "name": "stdout",
     "output_type": "stream",
     "text": [
      "45\n",
      "[12 15 18]\n",
      "[ 6 15 24]\n",
      "5.0\n",
      "2.58198889747\n",
      "6.66666666667\n"
     ]
    }
   ],
   "source": [
    "# 配列に関する統計値\n",
    "arr5 = np.array([[1, 2, 3], [4, 5, 6], [7, 8, 9]])\n",
    "\n",
    "# 合計値\n",
    "print(arr5.sum())\n",
    "print(arr5.sum(0))    # 0 を指定すると行方向に（各列の）合計が計算される\n",
    "print(arr5.sum(1))    # 1 を指定すると列方向に（各行の）合計が計算される\n",
    "\n",
    "# 平均値\n",
    "print(arr5.mean())\n",
    "\n",
    "# 標準偏差\n",
    "print(arr5.std())\n",
    "\n",
    "# 分散\n",
    "print(arr5.var())"
   ]
  },
  {
   "cell_type": "code",
   "execution_count": 23,
   "metadata": {
    "collapsed": false
   },
   "outputs": [
    {
     "name": "stdout",
     "output_type": "stream",
     "text": [
      "True\n",
      "False\n"
     ]
    }
   ],
   "source": [
    "# any() と all()\n",
    "arr6 = np.array([True, False, True])\n",
    "\n",
    "print(arr6.any())    # いずれかの要素が True であれば　True が返される\n",
    "print(arr6.all())    # すべての要素が True であれば True が返される"
   ]
  },
  {
   "cell_type": "code",
   "execution_count": 24,
   "metadata": {
    "collapsed": false
   },
   "outputs": [
    {
     "name": "stdout",
     "output_type": "stream",
     "text": [
      "[-0.07792857 -0.52305623 -0.44223493  0.3129011  -0.89475948]\n",
      "[-0.89475948 -0.52305623 -0.44223493 -0.07792857  0.3129011 ]\n"
     ]
    }
   ],
   "source": [
    "# 配列の要素をソートする\n",
    "arr7 = randn(5)\n",
    "\n",
    "print(arr7)\n",
    "arr7.sort()    # インプレイスでソートされる\n",
    "print(arr7)"
   ]
  },
  {
   "cell_type": "code",
   "execution_count": 25,
   "metadata": {
    "collapsed": false
   },
   "outputs": [
    {
     "name": "stdout",
     "output_type": "stream",
     "text": [
      "['Japan' 'Canada' 'USA' 'Korea' 'USA']\n",
      "['Canada' 'Japan' 'Korea' 'USA']\n"
     ]
    }
   ],
   "source": [
    "# 配列の要素の重複を取り除く\n",
    "countries = np.array(['Japan', 'Canada', 'USA', 'Korea', 'USA'])\n",
    "\n",
    "print(countries)\n",
    "print(np.unique(countries))"
   ]
  },
  {
   "cell_type": "code",
   "execution_count": 26,
   "metadata": {
    "collapsed": false
   },
   "outputs": [
    {
     "data": {
      "text/plain": [
       "array([ True, False, False, False], dtype=bool)"
      ]
     },
     "execution_count": 26,
     "metadata": {},
     "output_type": "execute_result"
    }
   ],
   "source": [
    "# 配列の要素の存在を確認する\n",
    "np.in1d(['USA', 'UK', 'France', 'Germany'], countries)"
   ]
  },
  {
   "cell_type": "code",
   "execution_count": 27,
   "metadata": {
    "collapsed": true
   },
   "outputs": [],
   "source": [
    "# 配列をファイルに書き出す\n",
    "arr8 = np.arange(5)\n",
    "np.save('my_array', arr8)    # my_array.npy に書き出される"
   ]
  },
  {
   "cell_type": "code",
   "execution_count": 28,
   "metadata": {
    "collapsed": false
   },
   "outputs": [
    {
     "data": {
      "text/plain": [
       "array([0, 1, 2, 3, 4])"
      ]
     },
     "execution_count": 28,
     "metadata": {},
     "output_type": "execute_result"
    }
   ],
   "source": [
    "# 配列をファイルから読み出す\n",
    "arr9 = np.load('my_array.npy')\n",
    "arr9"
   ]
  },
  {
   "cell_type": "code",
   "execution_count": 29,
   "metadata": {
    "collapsed": true
   },
   "outputs": [],
   "source": [
    "# 複数の配列を zip 形式でファイルに書き出す\n",
    "np.savez('zipped_arrays.npz', x=arr8, y=arr9)"
   ]
  },
  {
   "cell_type": "code",
   "execution_count": 30,
   "metadata": {
    "collapsed": false
   },
   "outputs": [
    {
     "data": {
      "text/plain": [
       "array([0, 1, 2, 3, 4])"
      ]
     },
     "execution_count": 30,
     "metadata": {},
     "output_type": "execute_result"
    }
   ],
   "source": [
    "# zip 形式でファイルに書き出した配列を読み出す\n",
    "zipped_arrays = np.load('zipped_arrays.npz')\n",
    "zipped_arrays['x']"
   ]
  },
  {
   "cell_type": "code",
   "execution_count": 31,
   "metadata": {
    "collapsed": true
   },
   "outputs": [],
   "source": [
    "# 配列をテキスト形式でファイルに書き出す\n",
    "arr10 = np.array([[1, 2, 3, 4], [5, 6, 7, 8]])\n",
    "np.savetxt('my_array.txt', arr10, delimiter=',')    # 区切り文字にカンマを指定"
   ]
  },
  {
   "cell_type": "code",
   "execution_count": 32,
   "metadata": {
    "collapsed": false
   },
   "outputs": [
    {
     "name": "stdout",
     "output_type": "stream",
     "text": [
      "1.000000000000000000e+00,2.000000000000000000e+00,3.000000000000000000e+00,4.000000000000000000e+00\r\n",
      "5.000000000000000000e+00,6.000000000000000000e+00,7.000000000000000000e+00,8.000000000000000000e+00\r\n"
     ]
    }
   ],
   "source": [
    "# ! を付けるとシェルコマンドを実行できる\n",
    "!cat my_array.txt"
   ]
  },
  {
   "cell_type": "code",
   "execution_count": 33,
   "metadata": {
    "collapsed": false
   },
   "outputs": [
    {
     "data": {
      "text/plain": [
       "array([[ 1.,  2.,  3.,  4.],\n",
       "       [ 5.,  6.,  7.,  8.]])"
      ]
     },
     "execution_count": 33,
     "metadata": {},
     "output_type": "execute_result"
    }
   ],
   "source": [
    "# テキスト形式でファイルに書き出した配列を読み出す\n",
    "arr11 = np.loadtxt('my_array.txt', delimiter=',')\n",
    "arr11"
   ]
  }
 ],
 "metadata": {
  "kernelspec": {
   "display_name": "Python 3",
   "language": "python",
   "name": "python3"
  },
  "language_info": {
   "codemirror_mode": {
    "name": "ipython",
    "version": 3
   },
   "file_extension": ".py",
   "mimetype": "text/x-python",
   "name": "python",
   "nbconvert_exporter": "python",
   "pygments_lexer": "ipython3",
   "version": "3.6.0"
  }
 },
 "nbformat": 4,
 "nbformat_minor": 2
}
